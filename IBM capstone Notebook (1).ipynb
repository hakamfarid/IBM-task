{
 "cells": [
  {
   "cell_type": "markdown",
   "metadata": {
    "collapsed": true
   },
   "source": [
    "# IBM python for Data Science Week 3 Notebook"
   ]
  },
  {
   "cell_type": "markdown",
   "metadata": {},
   "source": [
    "## Part 1"
   ]
  },
  {
   "cell_type": "markdown",
   "metadata": {},
   "source": [
    "### Getting the data into a dataframe:"
   ]
  },
  {
   "cell_type": "code",
   "execution_count": 3,
   "metadata": {},
   "outputs": [
    {
     "name": "stdout",
     "output_type": "stream",
     "text": [
      "Collecting folium\n",
      "  Downloading folium-0.11.0-py2.py3-none-any.whl (93 kB)\n",
      "\u001b[K     |████████████████████████████████| 93 kB 3.8 MB/s  eta 0:00:01\n",
      "\u001b[?25hCollecting branca>=0.3.0\n",
      "  Downloading branca-0.4.1-py3-none-any.whl (24 kB)\n",
      "Requirement already satisfied: requests in /opt/conda/envs/Python-3.7-main/lib/python3.7/site-packages (from folium) (2.24.0)\n",
      "Requirement already satisfied: jinja2>=2.9 in /opt/conda/envs/Python-3.7-main/lib/python3.7/site-packages (from folium) (2.11.2)\n",
      "Requirement already satisfied: numpy in /opt/conda/envs/Python-3.7-main/lib/python3.7/site-packages (from folium) (1.18.5)\n",
      "Requirement already satisfied: chardet<4,>=3.0.2 in /opt/conda/envs/Python-3.7-main/lib/python3.7/site-packages (from requests->folium) (3.0.4)\n",
      "Requirement already satisfied: idna<3,>=2.5 in /opt/conda/envs/Python-3.7-main/lib/python3.7/site-packages (from requests->folium) (2.9)\n",
      "Requirement already satisfied: urllib3!=1.25.0,!=1.25.1,<1.26,>=1.21.1 in /opt/conda/envs/Python-3.7-main/lib/python3.7/site-packages (from requests->folium) (1.25.9)\n",
      "Requirement already satisfied: certifi>=2017.4.17 in /opt/conda/envs/Python-3.7-main/lib/python3.7/site-packages (from requests->folium) (2020.12.5)\n",
      "Requirement already satisfied: MarkupSafe>=0.23 in /opt/conda/envs/Python-3.7-main/lib/python3.7/site-packages (from jinja2>=2.9->folium) (1.1.1)\n",
      "Installing collected packages: branca, folium\n",
      "Successfully installed branca-0.4.1 folium-0.11.0\n",
      "Libraries imported.\n"
     ]
    }
   ],
   "source": [
    "import numpy as np\n",
    "import pandas as pd\n",
    "pd.set_option('display.max_columns', None)\n",
    "pd.set_option('display.max_rows', None)\n",
    "\n",
    "import json\n",
    "\n",
    "#!conda install -c conda-forge geopy --yes\n",
    "from geopy.geocoders import Nominatim\n",
    "\n",
    "from bs4 import BeautifulSoup\n",
    "from urllib.request import urlopen\n",
    "import requests\n",
    "from pandas.io.json import json_normalize\n",
    "\n",
    "import matplotlib.cm as cm\n",
    "import matplotlib.colors as colors\n",
    "\n",
    "from sklearn.cluster import KMeans\n",
    "\n",
    "\n",
    "!pip install folium\n",
    "import folium\n",
    "\n",
    "print('Libraries imported.')"
   ]
  },
  {
   "cell_type": "code",
   "execution_count": 4,
   "metadata": {},
   "outputs": [],
   "source": [
    "url = 'https://en.wikipedia.org/wiki/List_of_postal_codes_of_Canada:_M'\n",
    "page = urlopen(url).read().decode('utf-8')\n",
    "soup = BeautifulSoup(page, 'html.parser')\n",
    "\n",
    "wiki_table = soup.body.table.tbody"
   ]
  },
  {
   "cell_type": "code",
   "execution_count": 5,
   "metadata": {},
   "outputs": [],
   "source": [
    "def get_cell(element):\n",
    "    cells = element.find_all('td')\n",
    "    row = []\n",
    "    \n",
    "    for cell in cells:\n",
    "        if cell.a:            \n",
    "            if (cell.a.text):\n",
    "                row.append(cell.a.text)\n",
    "                continue\n",
    "        row.append(cell.string.strip())\n",
    "        \n",
    "    return row"
   ]
  },
  {
   "cell_type": "code",
   "execution_count": 6,
   "metadata": {},
   "outputs": [],
   "source": [
    "def get_row():    \n",
    "    data = []  \n",
    "    \n",
    "    for tr in wiki_table.find_all('tr'):\n",
    "        row = get_cell(tr)\n",
    "        if len(row) != 3:\n",
    "            continue\n",
    "        data.append(row)        \n",
    "    \n",
    "    return data"
   ]
  },
  {
   "cell_type": "code",
   "execution_count": 7,
   "metadata": {},
   "outputs": [
    {
     "data": {
      "text/html": [
       "<div>\n",
       "<style scoped>\n",
       "    .dataframe tbody tr th:only-of-type {\n",
       "        vertical-align: middle;\n",
       "    }\n",
       "\n",
       "    .dataframe tbody tr th {\n",
       "        vertical-align: top;\n",
       "    }\n",
       "\n",
       "    .dataframe thead th {\n",
       "        text-align: right;\n",
       "    }\n",
       "</style>\n",
       "<table border=\"1\" class=\"dataframe\">\n",
       "  <thead>\n",
       "    <tr style=\"text-align: right;\">\n",
       "      <th></th>\n",
       "      <th>PostalCode</th>\n",
       "      <th>Borough</th>\n",
       "      <th>Neighbourhood</th>\n",
       "    </tr>\n",
       "  </thead>\n",
       "  <tbody>\n",
       "    <tr>\n",
       "      <th>0</th>\n",
       "      <td>M1A</td>\n",
       "      <td>Not assigned</td>\n",
       "      <td>Not assigned</td>\n",
       "    </tr>\n",
       "    <tr>\n",
       "      <th>1</th>\n",
       "      <td>M2A</td>\n",
       "      <td>Not assigned</td>\n",
       "      <td>Not assigned</td>\n",
       "    </tr>\n",
       "    <tr>\n",
       "      <th>2</th>\n",
       "      <td>M3A</td>\n",
       "      <td>North York</td>\n",
       "      <td>Parkwoods</td>\n",
       "    </tr>\n",
       "    <tr>\n",
       "      <th>3</th>\n",
       "      <td>M4A</td>\n",
       "      <td>North York</td>\n",
       "      <td>Victoria Village</td>\n",
       "    </tr>\n",
       "    <tr>\n",
       "      <th>4</th>\n",
       "      <td>M5A</td>\n",
       "      <td>Downtown Toronto</td>\n",
       "      <td>Regent Park, Harbourfront</td>\n",
       "    </tr>\n",
       "  </tbody>\n",
       "</table>\n",
       "</div>"
      ],
      "text/plain": [
       "  PostalCode           Borough              Neighbourhood\n",
       "0        M1A      Not assigned               Not assigned\n",
       "1        M2A      Not assigned               Not assigned\n",
       "2        M3A        North York                  Parkwoods\n",
       "3        M4A        North York           Victoria Village\n",
       "4        M5A  Downtown Toronto  Regent Park, Harbourfront"
      ]
     },
     "execution_count": 7,
     "metadata": {},
     "output_type": "execute_result"
    }
   ],
   "source": [
    "data = get_row()\n",
    "columns = ['PostalCode', 'Borough', 'Neighbourhood']\n",
    "df = pd.DataFrame(data, columns=columns)\n",
    "df.head()"
   ]
  },
  {
   "cell_type": "code",
   "execution_count": 8,
   "metadata": {},
   "outputs": [
    {
     "data": {
      "text/plain": [
       "(180, 3)"
      ]
     },
     "execution_count": 8,
     "metadata": {},
     "output_type": "execute_result"
    }
   ],
   "source": [
    "df.shape"
   ]
  },
  {
   "cell_type": "code",
   "execution_count": 9,
   "metadata": {},
   "outputs": [
    {
     "data": {
      "text/html": [
       "<div>\n",
       "<style scoped>\n",
       "    .dataframe tbody tr th:only-of-type {\n",
       "        vertical-align: middle;\n",
       "    }\n",
       "\n",
       "    .dataframe tbody tr th {\n",
       "        vertical-align: top;\n",
       "    }\n",
       "\n",
       "    .dataframe thead th {\n",
       "        text-align: right;\n",
       "    }\n",
       "</style>\n",
       "<table border=\"1\" class=\"dataframe\">\n",
       "  <thead>\n",
       "    <tr style=\"text-align: right;\">\n",
       "      <th></th>\n",
       "      <th>PostalCode</th>\n",
       "      <th>Borough</th>\n",
       "      <th>Neighbourhood</th>\n",
       "    </tr>\n",
       "  </thead>\n",
       "  <tbody>\n",
       "    <tr>\n",
       "      <th>0</th>\n",
       "      <td>M1B</td>\n",
       "      <td>Scarborough</td>\n",
       "      <td>Malvern, Rouge</td>\n",
       "    </tr>\n",
       "    <tr>\n",
       "      <th>1</th>\n",
       "      <td>M1C</td>\n",
       "      <td>Scarborough</td>\n",
       "      <td>Rouge Hill, Port Union, Highland Creek</td>\n",
       "    </tr>\n",
       "    <tr>\n",
       "      <th>2</th>\n",
       "      <td>M1E</td>\n",
       "      <td>Scarborough</td>\n",
       "      <td>Guildwood, Morningside, West Hill</td>\n",
       "    </tr>\n",
       "    <tr>\n",
       "      <th>3</th>\n",
       "      <td>M1G</td>\n",
       "      <td>Scarborough</td>\n",
       "      <td>Woburn</td>\n",
       "    </tr>\n",
       "    <tr>\n",
       "      <th>4</th>\n",
       "      <td>M1H</td>\n",
       "      <td>Scarborough</td>\n",
       "      <td>Cedarbrae</td>\n",
       "    </tr>\n",
       "  </tbody>\n",
       "</table>\n",
       "</div>"
      ],
      "text/plain": [
       "  PostalCode      Borough                           Neighbourhood\n",
       "0        M1B  Scarborough                          Malvern, Rouge\n",
       "1        M1C  Scarborough  Rouge Hill, Port Union, Highland Creek\n",
       "2        M1E  Scarborough       Guildwood, Morningside, West Hill\n",
       "3        M1G  Scarborough                                  Woburn\n",
       "4        M1H  Scarborough                               Cedarbrae"
      ]
     },
     "execution_count": 9,
     "metadata": {},
     "output_type": "execute_result"
    }
   ],
   "source": [
    "df1 = df[df.Borough != 'Not assigned']\n",
    "df1 = df1.sort_values(by=['PostalCode','Borough'])\n",
    "\n",
    "df1.reset_index(inplace=True)\n",
    "df1.drop('index',axis=1,inplace=True)\n",
    "\n",
    "df1.head()"
   ]
  },
  {
   "cell_type": "code",
   "execution_count": 10,
   "metadata": {},
   "outputs": [],
   "source": [
    "df_postcodes = df1['PostalCode']\n",
    "df_postcodes.drop_duplicates(inplace=True)\n",
    "df2 = pd.DataFrame(df_postcodes)\n",
    "df2['Borough'] = '';\n",
    "df2['Neighbourhood'] = '';\n",
    "\n",
    "\n",
    "df2.reset_index(inplace=True)\n",
    "df2.drop('index', axis=1, inplace=True)\n",
    "df1.reset_index(inplace=True)\n",
    "df1.drop('index', axis=1, inplace=True)\n",
    "\n",
    "for i in df2.index:\n",
    "    for j in df1.index:\n",
    "        if df2.iloc[i, 0] == df1.iloc[j, 0]:\n",
    "            df2.iloc[i, 1] = df1.iloc[j, 1]\n",
    "            df2.iloc[i, 2] = df2.iloc[i, 2] + ',' + df1.iloc[j, 2]\n",
    "            \n",
    "for i in df2.index:\n",
    "    s = df2.iloc[i, 2]\n",
    "    if s[0] == ',':\n",
    "        s =s [1:]\n",
    "    df2.iloc[i,2 ] = s"
   ]
  },
  {
   "cell_type": "code",
   "execution_count": 11,
   "metadata": {},
   "outputs": [
    {
     "data": {
      "text/plain": [
       "(103, 3)"
      ]
     },
     "execution_count": 11,
     "metadata": {},
     "output_type": "execute_result"
    }
   ],
   "source": [
    "df2.shape"
   ]
  },
  {
   "cell_type": "markdown",
   "metadata": {},
   "source": [
    "## Part 2- Adding Latitude and Longitude Data "
   ]
  },
  {
   "cell_type": "code",
   "execution_count": 17,
   "metadata": {},
   "outputs": [
    {
     "data": {
      "text/html": [
       "<div>\n",
       "<style scoped>\n",
       "    .dataframe tbody tr th:only-of-type {\n",
       "        vertical-align: middle;\n",
       "    }\n",
       "\n",
       "    .dataframe tbody tr th {\n",
       "        vertical-align: top;\n",
       "    }\n",
       "\n",
       "    .dataframe thead th {\n",
       "        text-align: right;\n",
       "    }\n",
       "</style>\n",
       "<table border=\"1\" class=\"dataframe\">\n",
       "  <thead>\n",
       "    <tr style=\"text-align: right;\">\n",
       "      <th></th>\n",
       "      <th>Postal Code</th>\n",
       "      <th>Latitude</th>\n",
       "      <th>Longitude</th>\n",
       "    </tr>\n",
       "  </thead>\n",
       "  <tbody>\n",
       "    <tr>\n",
       "      <th>0</th>\n",
       "      <td>M1B</td>\n",
       "      <td>43.806686</td>\n",
       "      <td>-79.194353</td>\n",
       "    </tr>\n",
       "    <tr>\n",
       "      <th>1</th>\n",
       "      <td>M1C</td>\n",
       "      <td>43.784535</td>\n",
       "      <td>-79.160497</td>\n",
       "    </tr>\n",
       "    <tr>\n",
       "      <th>2</th>\n",
       "      <td>M1E</td>\n",
       "      <td>43.763573</td>\n",
       "      <td>-79.188711</td>\n",
       "    </tr>\n",
       "    <tr>\n",
       "      <th>3</th>\n",
       "      <td>M1G</td>\n",
       "      <td>43.770992</td>\n",
       "      <td>-79.216917</td>\n",
       "    </tr>\n",
       "    <tr>\n",
       "      <th>4</th>\n",
       "      <td>M1H</td>\n",
       "      <td>43.773136</td>\n",
       "      <td>-79.239476</td>\n",
       "    </tr>\n",
       "  </tbody>\n",
       "</table>\n",
       "</div>"
      ],
      "text/plain": [
       "  Postal Code   Latitude  Longitude\n",
       "0         M1B  43.806686 -79.194353\n",
       "1         M1C  43.784535 -79.160497\n",
       "2         M1E  43.763573 -79.188711\n",
       "3         M1G  43.770992 -79.216917\n",
       "4         M1H  43.773136 -79.239476"
      ]
     },
     "execution_count": 17,
     "metadata": {},
     "output_type": "execute_result"
    }
   ],
   "source": [
    "\n",
    "import types\n",
    "import pandas as pd\n",
    "from botocore.client import Config\n",
    "import ibm_boto3\n",
    "\n",
    "def __iter__(self): return 0\n",
    "\n",
    "# @hidden_cell\n",
    "# The following code accesses a file in your IBM Cloud Object Storage. It includes your credentials.\n",
    "# You might want to remove those credentials before you share the notebook.\n",
    "client_8dabcaeb5ea546548b40abf894e469ff = ibm_boto3.client(service_name='s3',\n",
    "    ibm_api_key_id='MpvTl7bHo0PxT0XuFrS4a9JUND2jPJDYxtv0q8-lhiId',\n",
    "    ibm_auth_endpoint=\"https://iam.cloud.ibm.com/oidc/token\",\n",
    "    config=Config(signature_version='oauth'),\n",
    "    endpoint_url='https://s3.eu-geo.objectstorage.service.networklayer.com')\n",
    "\n",
    "body = client_8dabcaeb5ea546548b40abf894e469ff.get_object(Bucket='pythoncapstoneproject-donotdelete-pr-2mdeygcpqo73se',Key='Geospatial_Coordinates.csv')['Body']\n",
    "# add missing __iter__ method, so pandas accepts body as file-like object\n",
    "if not hasattr(body, \"__iter__\"): body.__iter__ = types.MethodType( __iter__, body )\n",
    "\n",
    "df_geo = pd.read_csv(body)\n",
    "df_geo.head()\n"
   ]
  },
  {
   "cell_type": "code",
   "execution_count": 18,
   "metadata": {},
   "outputs": [
    {
     "data": {
      "text/html": [
       "<div>\n",
       "<style scoped>\n",
       "    .dataframe tbody tr th:only-of-type {\n",
       "        vertical-align: middle;\n",
       "    }\n",
       "\n",
       "    .dataframe tbody tr th {\n",
       "        vertical-align: top;\n",
       "    }\n",
       "\n",
       "    .dataframe thead th {\n",
       "        text-align: right;\n",
       "    }\n",
       "</style>\n",
       "<table border=\"1\" class=\"dataframe\">\n",
       "  <thead>\n",
       "    <tr style=\"text-align: right;\">\n",
       "      <th></th>\n",
       "      <th>PostalCode</th>\n",
       "      <th>Borough</th>\n",
       "      <th>Neighbourhood</th>\n",
       "      <th>Latitude</th>\n",
       "      <th>Longitude</th>\n",
       "    </tr>\n",
       "  </thead>\n",
       "  <tbody>\n",
       "    <tr>\n",
       "      <th>0</th>\n",
       "      <td>M1B</td>\n",
       "      <td>Scarborough</td>\n",
       "      <td>Malvern, Rouge</td>\n",
       "      <td>43.8067</td>\n",
       "      <td>-79.1944</td>\n",
       "    </tr>\n",
       "    <tr>\n",
       "      <th>1</th>\n",
       "      <td>M1C</td>\n",
       "      <td>Scarborough</td>\n",
       "      <td>Rouge Hill, Port Union, Highland Creek</td>\n",
       "      <td>43.7845</td>\n",
       "      <td>-79.1605</td>\n",
       "    </tr>\n",
       "    <tr>\n",
       "      <th>2</th>\n",
       "      <td>M1E</td>\n",
       "      <td>Scarborough</td>\n",
       "      <td>Guildwood, Morningside, West Hill</td>\n",
       "      <td>43.7636</td>\n",
       "      <td>-79.1887</td>\n",
       "    </tr>\n",
       "    <tr>\n",
       "      <th>3</th>\n",
       "      <td>M1G</td>\n",
       "      <td>Scarborough</td>\n",
       "      <td>Woburn</td>\n",
       "      <td>43.771</td>\n",
       "      <td>-79.2169</td>\n",
       "    </tr>\n",
       "    <tr>\n",
       "      <th>4</th>\n",
       "      <td>M1H</td>\n",
       "      <td>Scarborough</td>\n",
       "      <td>Cedarbrae</td>\n",
       "      <td>43.7731</td>\n",
       "      <td>-79.2395</td>\n",
       "    </tr>\n",
       "  </tbody>\n",
       "</table>\n",
       "</div>"
      ],
      "text/plain": [
       "  PostalCode      Borough                           Neighbourhood Latitude  \\\n",
       "0        M1B  Scarborough                          Malvern, Rouge  43.8067   \n",
       "1        M1C  Scarborough  Rouge Hill, Port Union, Highland Creek  43.7845   \n",
       "2        M1E  Scarborough       Guildwood, Morningside, West Hill  43.7636   \n",
       "3        M1G  Scarborough                                  Woburn   43.771   \n",
       "4        M1H  Scarborough                               Cedarbrae  43.7731   \n",
       "\n",
       "  Longitude  \n",
       "0  -79.1944  \n",
       "1  -79.1605  \n",
       "2  -79.1887  \n",
       "3  -79.2169  \n",
       "4  -79.2395  "
      ]
     },
     "execution_count": 18,
     "metadata": {},
     "output_type": "execute_result"
    }
   ],
   "source": [
    "for i in df2.index:\n",
    "    for j in df_geo.index:\n",
    "        if df2.iloc[i, 0] == df_geo.iloc[j, 0]:\n",
    "            df2.iloc[i, 3] = df_geo.iloc[j, 1]\n",
    "            df2.iloc[i, 4] = df_geo.iloc[j, 2]\n",
    "            \n",
    "df2.head()"
   ]
  },
  {
   "cell_type": "code",
   "execution_count": 19,
   "metadata": {},
   "outputs": [
    {
     "data": {
      "text/html": [
       "<div>\n",
       "<style scoped>\n",
       "    .dataframe tbody tr th:only-of-type {\n",
       "        vertical-align: middle;\n",
       "    }\n",
       "\n",
       "    .dataframe tbody tr th {\n",
       "        vertical-align: top;\n",
       "    }\n",
       "\n",
       "    .dataframe thead th {\n",
       "        text-align: right;\n",
       "    }\n",
       "</style>\n",
       "<table border=\"1\" class=\"dataframe\">\n",
       "  <thead>\n",
       "    <tr style=\"text-align: right;\">\n",
       "      <th></th>\n",
       "      <th>PostalCode</th>\n",
       "      <th>Borough</th>\n",
       "      <th>Neighbourhood</th>\n",
       "      <th>Latitude</th>\n",
       "      <th>Longitude</th>\n",
       "    </tr>\n",
       "  </thead>\n",
       "  <tbody>\n",
       "    <tr>\n",
       "      <th>37</th>\n",
       "      <td>M4E</td>\n",
       "      <td>East Toronto</td>\n",
       "      <td>The Beaches</td>\n",
       "      <td>43.6764</td>\n",
       "      <td>-79.293</td>\n",
       "    </tr>\n",
       "    <tr>\n",
       "      <th>41</th>\n",
       "      <td>M4K</td>\n",
       "      <td>East Toronto</td>\n",
       "      <td>The Danforth West, Riverdale</td>\n",
       "      <td>43.6796</td>\n",
       "      <td>-79.3522</td>\n",
       "    </tr>\n",
       "    <tr>\n",
       "      <th>42</th>\n",
       "      <td>M4L</td>\n",
       "      <td>East Toronto</td>\n",
       "      <td>India Bazaar, The Beaches West</td>\n",
       "      <td>43.669</td>\n",
       "      <td>-79.3156</td>\n",
       "    </tr>\n",
       "    <tr>\n",
       "      <th>43</th>\n",
       "      <td>M4M</td>\n",
       "      <td>East Toronto</td>\n",
       "      <td>Studio District</td>\n",
       "      <td>43.6595</td>\n",
       "      <td>-79.3409</td>\n",
       "    </tr>\n",
       "    <tr>\n",
       "      <th>44</th>\n",
       "      <td>M4N</td>\n",
       "      <td>Central Toronto</td>\n",
       "      <td>Lawrence Park</td>\n",
       "      <td>43.728</td>\n",
       "      <td>-79.3888</td>\n",
       "    </tr>\n",
       "  </tbody>\n",
       "</table>\n",
       "</div>"
      ],
      "text/plain": [
       "   PostalCode          Borough                   Neighbourhood Latitude  \\\n",
       "37        M4E     East Toronto                     The Beaches  43.6764   \n",
       "41        M4K     East Toronto    The Danforth West, Riverdale  43.6796   \n",
       "42        M4L     East Toronto  India Bazaar, The Beaches West   43.669   \n",
       "43        M4M     East Toronto                 Studio District  43.6595   \n",
       "44        M4N  Central Toronto                   Lawrence Park   43.728   \n",
       "\n",
       "   Longitude  \n",
       "37   -79.293  \n",
       "41  -79.3522  \n",
       "42  -79.3156  \n",
       "43  -79.3409  \n",
       "44  -79.3888  "
      ]
     },
     "execution_count": 19,
     "metadata": {},
     "output_type": "execute_result"
    }
   ],
   "source": [
    "df3 = df2.copy()\n",
    "df3 = df3[df2.Borough.str.contains(\"Toronto\")]\n",
    "df3.head()"
   ]
  },
  {
   "cell_type": "code",
   "execution_count": 20,
   "metadata": {},
   "outputs": [
    {
     "data": {
      "text/html": [
       "<div style=\"width:100%;\"><div style=\"position:relative;width:100%;height:0;padding-bottom:60%;\"><span style=\"color:#565656\">Make this Notebook Trusted to load map: File -> Trust Notebook</span><iframe src=\"about:blank\" style=\"position:absolute;width:100%;height:100%;left:0;top:0;border:none !important;\" data-html=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 onload=\"this.contentDocument.open();this.contentDocument.write(atob(this.getAttribute('data-html')));this.contentDocument.close();\" allowfullscreen webkitallowfullscreen mozallowfullscreen></iframe></div></div>"
      ],
      "text/plain": [
       "<folium.folium.Map at 0x7fc73ccf3590>"
      ]
     },
     "execution_count": 20,
     "metadata": {},
     "output_type": "execute_result"
    }
   ],
   "source": [
    "toronto_map = folium.Map(location=[43.65, -79.4], zoom_start=12)\n",
    "\n",
    "X = df3['Latitude']\n",
    "Y = df3['Longitude']\n",
    "Z = np.stack((X, Y), axis=1)\n",
    "\n",
    "kmeans = KMeans(n_clusters=4, random_state=0).fit(Z)\n",
    "\n",
    "clusters = kmeans.labels_\n",
    "colors = ['red', 'green', 'blue', 'yellow']\n",
    "df3['Cluster'] = clusters\n",
    "\n",
    "for latitude, longitude, borough, cluster in zip(df3['Latitude'], df3['Longitude'], df3['Borough'], df3['Cluster']):\n",
    "    label = folium.Popup(borough, parse_html=True)\n",
    "    folium.CircleMarker(\n",
    "        [latitude, longitude],\n",
    "        radius=5,\n",
    "        popup=label,\n",
    "        color='black',\n",
    "        fill=True,\n",
    "        fill_color=colors[cluster],\n",
    "        fill_opacity=0.7).add_to(toronto_map)  \n",
    "\n",
    "toronto_map"
   ]
  },
  {
   "cell_type": "code",
   "execution_count": null,
   "metadata": {},
   "outputs": [],
   "source": []
  }
 ],
 "metadata": {
  "kernelspec": {
   "display_name": "Python 3.7",
   "language": "python",
   "name": "python3"
  },
  "language_info": {
   "codemirror_mode": {
    "name": "ipython",
    "version": 3
   },
   "file_extension": ".py",
   "mimetype": "text/x-python",
   "name": "python",
   "nbconvert_exporter": "python",
   "pygments_lexer": "ipython3",
   "version": "3.7.9"
  }
 },
 "nbformat": 4,
 "nbformat_minor": 1
}
